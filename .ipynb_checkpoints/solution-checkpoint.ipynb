{
 "cells": [
  {
   "cell_type": "markdown",
   "id": "442d9b79",
   "metadata": {},
   "source": [
    "# Assignment 2\n",
    "##### Name: Rakib Hossain Sajib\n",
    "##### Designation/Study: B.Sc. (Engg.) in Computer Science and Engineering, Begum Rokeya University, Rangpur"
   ]
  },
  {
   "cell_type": "markdown",
   "id": "08d3faf4",
   "metadata": {},
   "source": [
    "#### 1. Write a program that swaps the values of two variables.\n",
    "Logic: We can swap the values of variables by taking a temporary variable named `temp`. <br>\n",
    "At first, store the var1 into temp, then store the var2 into var1, and finally store temp into var2."
   ]
  },
  {
   "cell_type": "code",
   "execution_count": 1,
   "id": "f2dc2149",
   "metadata": {
    "scrolled": true
   },
   "outputs": [
    {
     "name": "stdin",
     "output_type": "stream",
     "text": [
      "Insert the value of first variable:  10\n",
      "Insert the value of Second variable:  20\n"
     ]
    },
    {
     "name": "stdout",
     "output_type": "stream",
     "text": [
      "Before swapping, the variables:  10 20\n",
      "After swapping, the variables:  20 10\n"
     ]
    }
   ],
   "source": [
    "var1 = input(\"Insert the value of first variable: \")\n",
    "var2 = input(\"Insert the value of Second variable: \")\n",
    "print(\"Before swapping, the variables: \", var1, var2)\n",
    "\n",
    "temp = var1\n",
    "var1 = var2\n",
    "var2 = temp\n",
    "\n",
    "print(\"After swapping, the variables: \", var1, var2)"
   ]
  },
  {
   "cell_type": "markdown",
   "id": "670828ba",
   "metadata": {},
   "source": [
    "#### 2. Write a program that calculates the area of a rectangle given its length and width.\n",
    "Logic: Area of rectangle is length * width."
   ]
  },
  {
   "cell_type": "code",
   "execution_count": 2,
   "id": "b4988ca8",
   "metadata": {},
   "outputs": [
    {
     "name": "stdin",
     "output_type": "stream",
     "text": [
      "Enter length of rectangle:  5\n",
      "Enter width of rectangle:  10\n"
     ]
    },
    {
     "name": "stdout",
     "output_type": "stream",
     "text": [
      "Area of the rectangle:  50.0\n"
     ]
    }
   ],
   "source": [
    "length = float(input(\"Enter length of rectangle: \"))\n",
    "width = float(input(\"Enter width of rectangle: \"))\n",
    "\n",
    "area = length * width\n",
    "\n",
    "print(\"Area of the rectangle: \", area)"
   ]
  },
  {
   "cell_type": "markdown",
   "id": "ecbef1b8",
   "metadata": {},
   "source": [
    "#### 3. Write a program that converts temperature from Fahrenheit to Celsius.\n",
    "Logic: Relationship between C and F: <br>\n",
    "C/5 = (F-32)/9"
   ]
  },
  {
   "cell_type": "code",
   "execution_count": 3,
   "id": "d57b07ea",
   "metadata": {},
   "outputs": [
    {
     "name": "stdin",
     "output_type": "stream",
     "text": [
      "Enter temperature in Fahrenheit:  98\n"
     ]
    },
    {
     "name": "stdout",
     "output_type": "stream",
     "text": [
      "Temperature in Celsius:  36.67\n"
     ]
    }
   ],
   "source": [
    "f = float(input(\"Enter temperature in Fahrenheit: \"))\n",
    "c = (f-32)*(5/9)\n",
    "print(\"Temperature in Celsius: \", round(c,2))"
   ]
  },
  {
   "cell_type": "markdown",
   "id": "ba59564d",
   "metadata": {},
   "source": [
    "#### 4. Write a program that calculates the volume of a sphere given its radius.\n",
    "Logic: Volume of sphere is (4/3) * pi * r^3"
   ]
  },
  {
   "cell_type": "code",
   "execution_count": 27,
   "id": "0f2224c1",
   "metadata": {},
   "outputs": [
    {
     "name": "stdin",
     "output_type": "stream",
     "text": [
      "Enter the radius of the sphere:  5\n"
     ]
    },
    {
     "name": "stdout",
     "output_type": "stream",
     "text": [
      "Volume is:  523.5999999999999\n"
     ]
    }
   ],
   "source": [
    "radius = float(input(\"Enter the radius of the sphere: \"))\n",
    "volume = (4/3)*3.1416*(radius**3)\n",
    "print(\"Volume is: \", volume)"
   ]
  },
  {
   "cell_type": "markdown",
   "id": "c91101e8",
   "metadata": {},
   "source": [
    "#### 5. Write a program that finds the average of three numbers.\n",
    "Logic: Average = (num1 + num2 + num3 + .... + numN) / n"
   ]
  },
  {
   "cell_type": "code",
   "execution_count": 5,
   "id": "320df184",
   "metadata": {},
   "outputs": [
    {
     "name": "stdin",
     "output_type": "stream",
     "text": [
      "Enter first number:  10\n",
      "Enter second number:  20\n",
      "Enter third number:  30\n"
     ]
    },
    {
     "name": "stdout",
     "output_type": "stream",
     "text": [
      "The average of three numbers:  20.0\n"
     ]
    }
   ],
   "source": [
    "num1 = float(input(\"Enter first number: \"))\n",
    "num2 = float(input(\"Enter second number: \"))\n",
    "num3 = float(input(\"Enter third number: \"))\n",
    "\n",
    "avg = (num1+num2+num3)/3\n",
    "\n",
    "print(\"The average of three numbers: \", avg)"
   ]
  },
  {
   "cell_type": "markdown",
   "id": "95001d0a",
   "metadata": {},
   "source": [
    "#### 6. Write a program that determines if a number is even or odd.\n",
    "Logic: If a number is divided by 2, It is even. Else it is odd."
   ]
  },
  {
   "cell_type": "code",
   "execution_count": 6,
   "id": "75f45255",
   "metadata": {},
   "outputs": [
    {
     "name": "stdin",
     "output_type": "stream",
     "text": [
      "Enter a number:  5\n"
     ]
    },
    {
     "name": "stdout",
     "output_type": "stream",
     "text": [
      "5  is Odd\n"
     ]
    }
   ],
   "source": [
    "num = int(input(\"Enter a number: \"))\n",
    "if(num%2==0):\n",
    "    print(num, \" is Even\")\n",
    "else:\n",
    "    print(num, \" is Odd\")"
   ]
  },
  {
   "cell_type": "markdown",
   "id": "7a6c759e",
   "metadata": {},
   "source": [
    "#### 7. Write a program that finds the maximum of three numbers.\n",
    "\n",
    "Logic: if num1 is greater than num2, num3, then num1 is the maximum. <br>\n",
    "Else if num2 is greater than num1, num3, then num2 is the maximum. <br>\n",
    "Else num3 is the maximum."
   ]
  },
  {
   "cell_type": "code",
   "execution_count": 7,
   "id": "c07bf123",
   "metadata": {},
   "outputs": [
    {
     "name": "stdin",
     "output_type": "stream",
     "text": [
      "Enter three numbers seperated by a space:  4 5 3\n"
     ]
    },
    {
     "name": "stdout",
     "output_type": "stream",
     "text": [
      "5.0 is the maximum number\n"
     ]
    }
   ],
   "source": [
    "inputs = input(\"Enter three numbers seperated by a space: \")\n",
    "\n",
    "num1, num2, num3 = map(float, inputs.split())\n",
    "\n",
    "if (num1>num2 and num1>num3):\n",
    "    print(num1, \"is the maximum number\")\n",
    "elif (num2>num1 and num2>num3):\n",
    "    print(num2, \"is the maximum number\")\n",
    "else:\n",
    "    print(num3, \"is the maximum number\")\n"
   ]
  },
  {
   "cell_type": "markdown",
   "id": "b08512fb",
   "metadata": {},
   "source": [
    "##### Alternative code (using max function)\n"
   ]
  },
  {
   "cell_type": "code",
   "execution_count": 8,
   "id": "e787fd60",
   "metadata": {},
   "outputs": [
    {
     "name": "stdin",
     "output_type": "stream",
     "text": [
      "Enter three numbers seperated by a space:  4 5 3\n"
     ]
    },
    {
     "name": "stdout",
     "output_type": "stream",
     "text": [
      "5.0 is the maximum number\n"
     ]
    }
   ],
   "source": [
    "inputs = input(\"Enter three numbers seperated by a space: \")\n",
    "\n",
    "num1, num2, num3 = map(float, inputs.split())\n",
    "\n",
    "maximum = max(num1, num2, num3)\n",
    "\n",
    "print(maximum, \"is the maximum number\")"
   ]
  },
  {
   "cell_type": "markdown",
   "id": "1ba856eb",
   "metadata": {},
   "source": [
    "#### 8. Write a program that determines if a year is a leap year or not."
   ]
  },
  {
   "cell_type": "markdown",
   "id": "aeb5094c",
   "metadata": {},
   "source": [
    "Logic: A year is leap year if it follows atleast one of these two conditions: <br>\n",
    "- Year is divided by 4, but isn't divided by 100\n",
    "- Year is divided by 400\n",
    "\n",
    "<br>For example: 2020 is a leap year. 3000 is not a leap year."
   ]
  },
  {
   "cell_type": "code",
   "execution_count": 9,
   "id": "1c0d7d13",
   "metadata": {},
   "outputs": [
    {
     "name": "stdin",
     "output_type": "stream",
     "text": [
      "Enter a year:  2020\n"
     ]
    },
    {
     "name": "stdout",
     "output_type": "stream",
     "text": [
      "2020 is a leap year\n"
     ]
    }
   ],
   "source": [
    "year = int(input(\"Enter a year: \"))\n",
    "\n",
    "if((year%4==0 and year%100!=0) or (year%400==0)):\n",
    "    print(year, \"is a leap year\")\n",
    "else:\n",
    "    print(year, \"is not a leap year\")"
   ]
  },
  {
   "cell_type": "markdown",
   "id": "0d6521c1",
   "metadata": {},
   "source": [
    "#### 9. Write a program that determines if a number is positive, negative, or zero.\n",
    "Logic: If the number is\n",
    "- equal to 0, then it is zero\n",
    "- less than 0, then it is negative\n",
    "- greater than 0, then it is positive"
   ]
  },
  {
   "cell_type": "code",
   "execution_count": 10,
   "id": "3219ef4a",
   "metadata": {},
   "outputs": [
    {
     "name": "stdin",
     "output_type": "stream",
     "text": [
      "Enter a number:  6\n"
     ]
    },
    {
     "name": "stdout",
     "output_type": "stream",
     "text": [
      "6.0 is positive\n"
     ]
    }
   ],
   "source": [
    "num = float(input(\"Enter a number: \"))\n",
    "\n",
    "if(num == 0):\n",
    "    print(num, \"is zero\")\n",
    "elif(num < 0):\n",
    "    print(num, \"is negative\")\n",
    "else:\n",
    "    print(num, \"is positive\")"
   ]
  },
  {
   "cell_type": "markdown",
   "id": "01326292",
   "metadata": {},
   "source": [
    "#### 10. Write a program that calculates the grade based on a given percentage.\n",
    "\n",
    "Logic: The Grading System in Bangladesh:\n",
    "- 80 - 100 = A+\n",
    "- 70 - 79 = A\n",
    "- 60 - 69 = A-\n",
    "- 50 - 59 = B\n",
    "- 40 - 49 = C\n",
    "- 33 - 39 = D\n",
    "- 0 - 32 = F"
   ]
  },
  {
   "cell_type": "code",
   "execution_count": 11,
   "id": "ced4081e",
   "metadata": {},
   "outputs": [
    {
     "name": "stdin",
     "output_type": "stream",
     "text": [
      "Enter a percentage:  35\n"
     ]
    },
    {
     "name": "stdout",
     "output_type": "stream",
     "text": [
      "The grade for 35.0 % is:  D\n"
     ]
    }
   ],
   "source": [
    "percentage = float(input(\"Enter a percentage: \"))\n",
    "\n",
    "if(percentage>=80):\n",
    "    grade = 'A+'\n",
    "elif(percentage>=70):\n",
    "    grade = 'A'\n",
    "elif(percentage>=60):\n",
    "    grade = 'A-'\n",
    "elif(percentage>=50):\n",
    "    grade = 'B'\n",
    "elif(percentage>=40):\n",
    "    grade = 'C'\n",
    "elif (percentage>=33):\n",
    "    grade = 'D'\n",
    "else:\n",
    "    grade = 'F'\n",
    "    \n",
    "print(\"The grade for\", percentage,\"% is: \", grade)"
   ]
  },
  {
   "cell_type": "markdown",
   "id": "f1a8f7b1",
   "metadata": {},
   "source": [
    "#### 11. Write a program that prints the first `n` natural numbers.\n",
    "Logic: We can do this using `for` loop, range from 1 to n+1(exclusive). It will iterate between 1 to n."
   ]
  },
  {
   "cell_type": "code",
   "execution_count": 12,
   "id": "088216a1",
   "metadata": {},
   "outputs": [
    {
     "name": "stdin",
     "output_type": "stream",
     "text": [
      "Enter a value for n:  10\n"
     ]
    },
    {
     "name": "stdout",
     "output_type": "stream",
     "text": [
      "The first 10 natural numbers are: \n",
      "1 2 3 4 5 6 7 8 9 10 "
     ]
    }
   ],
   "source": [
    "n = int(input(\"Enter a value for n: \"))\n",
    "\n",
    "if n<=0:\n",
    "    print(\"Enter a positive integer for n\")\n",
    "else:\n",
    "    print(\"The first\",n,\"natural numbers are: \")\n",
    "    for i in range(1, n+1):\n",
    "        print(i, end=' ')"
   ]
  },
  {
   "cell_type": "markdown",
   "id": "c75ce061",
   "metadata": {},
   "source": [
    "#### 12. Write a program that calculates the factorial of a number.\n",
    "\n",
    "Logic: 5! = 5 * 4 * 3 * 2 * 1 . We will use `for` loop in this problem."
   ]
  },
  {
   "cell_type": "code",
   "execution_count": 13,
   "id": "bd14a6be",
   "metadata": {},
   "outputs": [
    {
     "name": "stdin",
     "output_type": "stream",
     "text": [
      "Enter a number:  5\n"
     ]
    },
    {
     "name": "stdout",
     "output_type": "stream",
     "text": [
      "Factorial of 5 : 120 "
     ]
    }
   ],
   "source": [
    "n = int(input(\"Enter a number: \"))\n",
    "\n",
    "if n<0:\n",
    "    print(\"Enter a non-negative number\")\n",
    "else:\n",
    "    fact = 1\n",
    "    for i in range(1, n+1):\n",
    "        fact = fact * i\n",
    "    print(\"Factorial of\",n,\":\",fact, end=' ')"
   ]
  },
  {
   "cell_type": "markdown",
   "id": "db2ea113",
   "metadata": {},
   "source": [
    "#### 13. Write a program that generates a Fibonacci sequence of length `n`.\n",
    "\n",
    "Logic: A fibonacci series is 0 1 1 2 3 5 8 ..... <br>\n",
    "Here, summation of each two numbers (serially) forms the next number. We will use `for` loop here."
   ]
  },
  {
   "cell_type": "code",
   "execution_count": 14,
   "id": "9702a9f1",
   "metadata": {},
   "outputs": [
    {
     "name": "stdin",
     "output_type": "stream",
     "text": [
      "Enter a number:  10\n"
     ]
    },
    {
     "name": "stdout",
     "output_type": "stream",
     "text": [
      "Fibonacci sequence of length 10 : 0 1 1 2 3 5 8 13 21 34 "
     ]
    }
   ],
   "source": [
    "n = int(input(\"Enter a number: \"))\n",
    "\n",
    "if n<0:\n",
    "    print(\"Enter a non-negative number\")\n",
    "else:\n",
    "    fiba = 0\n",
    "    fibb = 1\n",
    "    print(\"Fibonacci sequence of length\",n,\":\", end=' ')\n",
    "    for i in range(0, n):\n",
    "        print(fiba, end=' ')\n",
    "        fibo = fiba + fibb\n",
    "        fiba = fibb\n",
    "        fibb = fibo"
   ]
  },
  {
   "cell_type": "markdown",
   "id": "e2c7ba16",
   "metadata": {},
   "source": [
    "#### 14. Write a program that checks if a given number is prime or not.\n",
    "\n",
    "Logic: Non-prime numbers can be divided by numbers within the range from 2 up to the square root of the non-prime number"
   ]
  },
  {
   "cell_type": "code",
   "execution_count": 15,
   "id": "92d806d4",
   "metadata": {},
   "outputs": [
    {
     "name": "stdin",
     "output_type": "stream",
     "text": [
      "Enter a number:  5\n"
     ]
    },
    {
     "name": "stdout",
     "output_type": "stream",
     "text": [
      "5 is Prime Number\n"
     ]
    }
   ],
   "source": [
    "num = int(input(\"Enter a number: \"))\n",
    "\n",
    "is_prime = True\n",
    "\n",
    "if num<=1:\n",
    "    is_prime = False\n",
    "else:\n",
    "    for i in range(2, int(num**0.5)+1):\n",
    "        if(num%i==0):\n",
    "            is_prime = False\n",
    "            break\n",
    "            \n",
    "if (is_prime == True):\n",
    "    print(num,\"is Prime Number\")\n",
    "else:\n",
    "    print(num,\"is Not Prime Number\")"
   ]
  },
  {
   "cell_type": "markdown",
   "id": "f1109863",
   "metadata": {},
   "source": [
    "#### 15. Write a program that prints the multiplication table of a given number.\n",
    "\n",
    "Logic: We will take a `for` loop range from 1 to 11(exclusive). It will iterate between 1 to 10."
   ]
  },
  {
   "cell_type": "code",
   "execution_count": 16,
   "id": "672cd74b",
   "metadata": {},
   "outputs": [
    {
     "name": "stdin",
     "output_type": "stream",
     "text": [
      "Enter a number:  3\n"
     ]
    },
    {
     "name": "stdout",
     "output_type": "stream",
     "text": [
      "\n",
      "Multiplication table of 3 :\n",
      "3 x 1 = 3\n",
      "3 x 2 = 6\n",
      "3 x 3 = 9\n",
      "3 x 4 = 12\n",
      "3 x 5 = 15\n",
      "3 x 6 = 18\n",
      "3 x 7 = 21\n",
      "3 x 8 = 24\n",
      "3 x 9 = 27\n",
      "3 x 10 = 30\n"
     ]
    }
   ],
   "source": [
    "num = int(input(\"Enter a number: \"))\n",
    "\n",
    "print(\"\\nMultiplication table of\",num,\":\")\n",
    "for i in range(1, 11):\n",
    "    print(num,\"x\",i,\"=\",num*i)"
   ]
  },
  {
   "cell_type": "markdown",
   "id": "6f453b28",
   "metadata": {},
   "source": [
    "#### 16. Write a program that finds the sum of all even numbers between 1 and `n`.\n",
    "\n",
    "Logic: We will use `for` loop for iteration and `if` condition to check whether it is even or not."
   ]
  },
  {
   "cell_type": "code",
   "execution_count": 17,
   "id": "bbd23249",
   "metadata": {},
   "outputs": [
    {
     "name": "stdin",
     "output_type": "stream",
     "text": [
      "Enter a number:  10\n"
     ]
    },
    {
     "name": "stdout",
     "output_type": "stream",
     "text": [
      "Sum of even numbers from 1 to 10 : 30\n"
     ]
    }
   ],
   "source": [
    "n = int(input(\"Enter a number: \"))\n",
    "sum = 0\n",
    "\n",
    "for i in range(1, n+1):\n",
    "    if(i%2==0):\n",
    "        sum = sum + i\n",
    "\n",
    "print(\"Sum of even numbers from 1 to\",n,\":\",sum)"
   ]
  },
  {
   "cell_type": "markdown",
   "id": "92cdfe5b",
   "metadata": {},
   "source": [
    "#### 17. Write a program that reverses a given number.\n",
    "\n",
    "Logic: First take a number from user. Iterate it using `while` loop until the number becomes 0. Take a variable called `reversed_num = 0`. <br>\n",
    "Now, find the last digit of the number and store it in `digit` variable. Set the value of `reversed_num` with the summation of `reversed_num * 10` and `digit`. Cut the last digit from the number using `num = num // 10`. <br>\n",
    "Iterate these processes again and again till the loop condition is `True`."
   ]
  },
  {
   "cell_type": "code",
   "execution_count": 18,
   "id": "9df8b0f5",
   "metadata": {},
   "outputs": [
    {
     "name": "stdin",
     "output_type": "stream",
     "text": [
      "Enter a number:  512\n"
     ]
    },
    {
     "name": "stdout",
     "output_type": "stream",
     "text": [
      "Reversed number: 215\n"
     ]
    }
   ],
   "source": [
    "num = int(input(\"Enter a number: \"))\n",
    "\n",
    "reversed_num = 0\n",
    "while(num!=0):\n",
    "    digit = num%10\n",
    "    reversed_num = reversed_num * 10 + digit\n",
    "    num = num//10\n",
    "print(\"Reversed number:\",reversed_num)\n",
    "\n"
   ]
  },
  {
   "cell_type": "markdown",
   "id": "52370d04",
   "metadata": {},
   "source": [
    "#### 18. Write a program that checks if a given string is a palindrome.\n",
    "\n",
    "Logic: First reverse the string using string slicing and store it as reversed_str. Now check with original string using if condition."
   ]
  },
  {
   "cell_type": "code",
   "execution_count": 19,
   "id": "4c2c9c0d",
   "metadata": {},
   "outputs": [
    {
     "name": "stdin",
     "output_type": "stream",
     "text": [
      "Enter a string:  wow\n"
     ]
    },
    {
     "name": "stdout",
     "output_type": "stream",
     "text": [
      "wow is a palindrome\n"
     ]
    }
   ],
   "source": [
    "str = input(\"Enter a string: \")\n",
    "reversed_str = str[::-1]\n",
    "if(str == reversed_str):\n",
    "    print(str,\"is a palindrome\")\n",
    "else:\n",
    "    print(str,\"is not a palindrome\")"
   ]
  },
  {
   "cell_type": "markdown",
   "id": "1472698b",
   "metadata": {},
   "source": [
    "#### 19. Write a program that generates a random number and allows the user to guess it.\n",
    "\n",
    "Logic: Import randint from random package. Then generate a random number. Take a guess from user and check the two number using if condition."
   ]
  },
  {
   "cell_type": "code",
   "execution_count": 20,
   "id": "794ae1f4",
   "metadata": {},
   "outputs": [
    {
     "name": "stdin",
     "output_type": "stream",
     "text": [
      "Guess a number between 1 and 10:  7\n"
     ]
    },
    {
     "name": "stdout",
     "output_type": "stream",
     "text": [
      "Your guess is incorrect, the number was 5\n"
     ]
    }
   ],
   "source": [
    "from random import randint\n",
    "\n",
    "num = randint(1, 10)\n",
    "guess = int(input(\"Guess a number between 1 and 10: \"))\n",
    "\n",
    "if(guess == num):\n",
    "    print(\"Your guess is correct\")\n",
    "else:\n",
    "    print(\"Your guess is incorrect, the number was\",num)"
   ]
  },
  {
   "cell_type": "markdown",
   "id": "910653d0",
   "metadata": {},
   "source": [
    "#### 20. Write a program that finds the greatest common divisor (GCD) of two numbers.\n",
    "\n",
    "Logic: We will do it using recursion. Every time, it will call itself recursively untill one of the parameters of the function becomes 0 and terminates the recursive calling."
   ]
  },
  {
   "cell_type": "code",
   "execution_count": 21,
   "id": "1b0422d5",
   "metadata": {},
   "outputs": [
    {
     "name": "stdin",
     "output_type": "stream",
     "text": [
      "Enter first number:  9\n",
      "Enter second number:  6\n"
     ]
    },
    {
     "name": "stdout",
     "output_type": "stream",
     "text": [
      "GCD of 9 and 6 : 3\n"
     ]
    }
   ],
   "source": [
    "num1 = int(input(\"Enter first number: \"))\n",
    "num2 = int(input(\"Enter second number: \"))\n",
    "\n",
    "def gcd(a, b):\n",
    "    if(a == 0 or b == 0):\n",
    "        return max(a, b)\n",
    "    else:\n",
    "        rem = b%a\n",
    "        return gcd(rem, a)\n",
    "    \n",
    "result = gcd(num1, num2)    \n",
    "print(\"GCD of\",num1,\"and\",num2,\":\",result)"
   ]
  },
  {
   "cell_type": "markdown",
   "id": "50e5e584",
   "metadata": {},
   "source": [
    "##### Alternative way: We can simply done this using gcd() function from math library"
   ]
  },
  {
   "cell_type": "code",
   "execution_count": 22,
   "id": "a92be725",
   "metadata": {},
   "outputs": [
    {
     "name": "stdin",
     "output_type": "stream",
     "text": [
      "Enter first number:  9\n",
      "Enter second number:  6\n"
     ]
    },
    {
     "name": "stdout",
     "output_type": "stream",
     "text": [
      "GCD of 9 and 6 : 3\n"
     ]
    }
   ],
   "source": [
    "import math\n",
    "\n",
    "num1 = int(input(\"Enter first number: \"))\n",
    "num2 = int(input(\"Enter second number: \"))\n",
    "\n",
    "result = math.gcd(num1, num2)\n",
    "print(\"GCD of\",num1,\"and\",num2,\":\",result)"
   ]
  }
 ],
 "metadata": {
  "kernelspec": {
   "display_name": "Python 3 (ipykernel)",
   "language": "python",
   "name": "python3"
  },
  "language_info": {
   "codemirror_mode": {
    "name": "ipython",
    "version": 3
   },
   "file_extension": ".py",
   "mimetype": "text/x-python",
   "name": "python",
   "nbconvert_exporter": "python",
   "pygments_lexer": "ipython3",
   "version": "3.11.6"
  }
 },
 "nbformat": 4,
 "nbformat_minor": 5
}
